{
 "cells": [
  {
   "cell_type": "markdown",
   "metadata": {},
   "source": [
    "# Pogoste verjetnostne porazdelitve"
   ]
  },
  {
   "cell_type": "markdown",
   "metadata": {},
   "source": [
    "Verjetnostna porazdelitev $P$ je funkcija nad naključno spremenljivko $X$, ki vsaki možni vrednosti spremenljivke priredi verjetnost - vrednost v intervalu $[0,1]$. Spremenljivka $X$ je lahko zvezna, diskretna, eno- ali več dimenzionalna. \n",
    "\n",
    "Vrednost $P(X)$ je za vsako možno vrednost spremenljivke $X$ (celotno definicijsko območje), vsota preko definicijskega območja pa mora biti enaka $1$.\n",
    "\n",
    "Za vsako verjetnostno porazdelitev, ki jo bomo spoznali v nadaljevanju, navedemo:\n",
    "1. definicijsko območje (t.j. kakšna je spremnljivka $X$),\n",
    "2. obliko (formulo, ki vsaki vrednosti $X$ priredi verjetnost),\n",
    "3. parametre (konstante, ki določajo vrednosti in/ali obliko funkcije)\n",
    "\n",
    "\n",
    "<font color=\"green\"><b>Vodilo:</b></font> <i>Izbira porazdelitve za modeliranje je odvisna od narave podatkov.</i>"
   ]
  },
  {
   "cell_type": "code",
   "execution_count": null,
   "metadata": {
    "collapsed": true
   },
   "outputs": [],
   "source": [
    "% matplotlib inline\n",
    "import matplotlib.pyplot as plt\n",
    "import numpy as np"
   ]
  },
  {
   "cell_type": "markdown",
   "metadata": {},
   "source": [
    "### Normalna (Gaussova) porazdelitev"
   ]
  },
  {
   "cell_type": "markdown",
   "metadata": {},
   "source": [
    "Normalna (ali Gaussova) porazdelitev je porazdelitev na celotnem območju realnih števil. Je ena od najpogostejših porazdelitev, ki se uporabljao v praksi, saj ima veliko podatkov znano, zvonasto obliko. Funkcija je <i>simetrična</i> in podana z dvema parametroma, sredino in varianco.\n",
    "\n",
    "<b>Tip spremenljivke:</b> eno- ali več dimenzionalna, zvezna.\n",
    "\n",
    "<b>Definicijsko območje:</b> $(-\\infty, +\\infty)$\n",
    "\n",
    "<b>Oblika:</b> \n",
    "    $$ P(x) = \\frac{1}{\\sqrt{2\\pi \\sigma^2}} e^{\\frac{-(x - \\mu)^2}{2 \\sigma ^2}}$$\n",
    "\n",
    "<b>Parametri:</b>\n",
    "* $\\mu$ sredina\n",
    "* $\\sigma^2$ varianca"
   ]
  },
  {
   "cell_type": "code",
   "execution_count": null,
   "metadata": {
    "collapsed": false
   },
   "outputs": [],
   "source": [
    "from scipy.stats import multivariate_normal as mvn \n",
    "\n",
    "# Parametri določajo obliko funkcije\n",
    "mu     = 0   # sredina\n",
    "sigma2 = 1   # varianca\n",
    "\n",
    "n = 100                               # velikost vzorca\n",
    "sample = mvn.rvs(mu, sigma2, size=n)  # naključen vzorec n primerov spremenljivke\n",
    "\n",
    "xr = np.linspace(-5, 5, 100)               # interval X \n",
    "P  = [mvn.pdf(x, mu, sigma2) for x in xr]  # porazdelitvena funkcija\n",
    "\n",
    "# Histogram - porazdelitev naključlnih VZORCEV x glede na P(x)\n",
    "plt.figure(figsize=(10, 4))\n",
    "plt.subplot(1, 2, 1)\n",
    "plt.title(\"vzorec\")\n",
    "plt.hist(sample)  # \n",
    "plt.xlabel(\"X\")\n",
    "plt.ylabel(\"Število primerov\")\n",
    "\n",
    "# Graf porazdelitvene funkcije\n",
    "plt.subplot(1, 2, 2)\n",
    "plt.title(\"Graf porazdelitve\")\n",
    "plt.plot(xr, P)   # nariši P(x)\n",
    "plt.ylabel(\"P(x)\")\n",
    "plt.xlabel(\"X\")\n",
    "plt.show()"
   ]
  },
  {
   "cell_type": "markdown",
   "metadata": {},
   "source": [
    "#### Učenje parametrov\n",
    "\n",
    "V praksi resničnih vrednosti parametrov ne poznamo. <i>Parametrov se naučimo iz vzorca</i>. Prednosti postopka so, da nato lahko sklepamo o novih vzorcih, t.j. vsaki možni vrednosti spremljivke priredimo verjetnost.\n",
    "\n",
    "imejmo vzorec naključne spremenljivke $X$ velikosti $n$. \n",
    "$$ {X_1, X_2, ..., X_n} $$\n",
    "\n",
    "Za normalno porazdelitev dobimo <i>oceno</i> za parametre na naslednji način:\n",
    "\n",
    "$\\mu = E[X_i] = \\bar{X}$   (povprečje vzorca)\n",
    "\n",
    "$\\sigma^2 = \\frac{n-1}{n} E[(X_i-\\bar{X})^2] = \\frac{n-1}{n} var[x]$ (popravljena varianca vzorca)"
   ]
  },
  {
   "cell_type": "code",
   "execution_count": null,
   "metadata": {
    "collapsed": false
   },
   "outputs": [],
   "source": [
    "# Ocenimo parametre iz vzorca\n",
    "mu_fit = np.mean(sample)\n",
    "sigma2_fit = (n-1)/n * np.var(sample)\n",
    "\n",
    "print(mu_fit, sigma2_fit)  "
   ]
  },
  {
   "cell_type": "markdown",
   "metadata": {},
   "source": [
    "Parametra sta kar podobna resničnim parametrov, ki ju poznamo.\n",
    "<font color=\"green\"><b>Naredi sam/a.</b></font> Poskušaj, kako se natančnost ocene parametrov spreminja z velikostjo vzorca $n$."
   ]
  },
  {
   "cell_type": "code",
   "execution_count": null,
   "metadata": {
    "collapsed": false
   },
   "outputs": [],
   "source": [
    "# Na eni sliki primerjamo porazdelitev z naučenimi parametri s pravo porazdelitvijo\n",
    "P_fit = [mvn.pdf(x, mu_fit, sigma2_fit) for x in xr ]\n",
    "\n",
    "plt.figure()\n",
    "plt.hist(sample,    label=\"Vzorec\", normed=True)\n",
    "plt.plot(xr, P,     label=\"P(X) resnična\", linewidth=2.0)\n",
    "plt.plot(xr, P_fit, label=\"P(X) ocenjena\", linewidth=2.0)   # ocenjena porazdelitev je model\n",
    "plt.legend()\n",
    "plt.show()"
   ]
  },
  {
   "cell_type": "markdown",
   "metadata": {},
   "source": [
    "\n",
    "### Studentova porazdelitev\n",
    "\n",
    "Studentova porazdelitev (ali t-porazdelitev) je porazdelitev na celotnem območju realnih števil.\n",
    "Njena oblika je simetrična podobna normalni. Je manj občutljiva na <i>osamelce v majhnih vzorcih.</i>\n",
    "\n",
    "\n",
    "<b>Tip spremenljivke:</b> eno-dimenzionalna, zvezna.\n",
    "\n",
    "<b>Definicijsko območje:</b> $x \\in (-\\infty, +\\infty)$\n",
    "\n",
    "<b>Oblika:</b> \n",
    "    $$ P(x) = \\frac{\\Gamma[(\\nu + 1) / 2]}{\\sqrt{\\nu \\pi} \\, \\Gamma(\\nu / 2)} \\left( 1 + \\frac{x^2}{\\nu} \\right)^{-(\\nu + 1) / 2}$$\n",
    "\n",
    "<b>Parametri:</b>\n",
    "* $\\nu$ število prostostnih stopenj,"
   ]
  },
  {
   "cell_type": "code",
   "execution_count": null,
   "metadata": {
    "collapsed": false
   },
   "outputs": [],
   "source": [
    "from scipy.stats import t as student \n",
    "\n",
    "# Parametri določajo obliko funkcije\n",
    "nu     = 2 # prostostne stopnje\n",
    "\n",
    "n = 20                              # velikost vzorca\n",
    "sample = student.rvs(nu, size=n)  # naključen vzorec n primerov spremenljivke\n",
    "\n",
    "xr = np.linspace(-5, 5, 100)               # interval X \n",
    "P  = [student.pdf(x, nu) for x in xr]  # porazdelitvena funkcija\n",
    "\n",
    "# Histogram - porazdelitev naključlnih VZORCEV x glede na P(x)\n",
    "plt.figure(figsize=(10, 4))\n",
    "plt.subplot(1, 2, 1)\n",
    "plt.title(\"Vzorec\")\n",
    "plt.hist(sample)  # \n",
    "plt.xlabel(\"X\")\n",
    "plt.ylabel(\"Število primerov\")\n",
    "\n",
    "# Graf porazdelitvene funkcije\n",
    "plt.subplot(1, 2, 2)\n",
    "plt.title(\"Graf porazdelitve\")\n",
    "plt.plot(xr, P)   # nariši P(x)\n",
    "plt.ylabel(\"P(x)\")\n",
    "plt.xlabel(\"X\")\n",
    "plt.show()"
   ]
  },
  {
   "cell_type": "markdown",
   "metadata": {},
   "source": [
    "#### Učenje parametrov iz vzorca\n",
    "\n",
    "Večina porazdelitve v knjižnici ```scipy``` vsebuje funkcijo ```fit```, ki izračuna najverjetnejše vrednosti parametrov porazdelitve glede na vzorec."
   ]
  },
  {
   "cell_type": "code",
   "execution_count": null,
   "metadata": {
    "collapsed": false
   },
   "outputs": [],
   "source": [
    "# Na eni sliki primerjamo porazdelitev z naučenimi parametri s pravo porazdelitvijo\n",
    "pars = student.fit(sample)\n",
    "P_fit = [student.pdf(x, *pars) for x in xr ]\n",
    "\n",
    "plt.figure()\n",
    "plt.hist(sample,    label=\"Vzorec\", normed=True)\n",
    "plt.plot(xr, P,     label=\"P(X) resnična\", linewidth=2.0)\n",
    "plt.plot(xr, P_fit, label=\"P(X) ocenjena\", linewidth=2.0)   # ocenjena porazdelitev je model\n",
    "plt.legend()\n",
    "plt.show()"
   ]
  },
  {
   "cell_type": "markdown",
   "metadata": {},
   "source": [
    "<font color=\"green\"><b>Naredi sam/a.</b></font> Generiraj vzorec z  manjhnim številom (do 20) vzorcev iz normalne porazdelitve. Primerjaj ocene porazdelitve s pomočjo normalne in Studentove porazdelitve. Katera porazdelitev bolje oceni resnično porazdelitev?"
   ]
  },
  {
   "cell_type": "code",
   "execution_count": null,
   "metadata": {
    "collapsed": true
   },
   "outputs": [],
   "source": [
    "# Primerjaj Normalno in Studentovo porazdelitev pri majhnem vzorcu\n",
    "# ..."
   ]
  },
  {
   "cell_type": "markdown",
   "metadata": {},
   "source": [
    "\n",
    "### Beta porazdelitev\n",
    "\n",
    "Beta porazdelitev je porazdelitev spremnljivke na <i>omejenem intervalu</i> $[0, 1]$ . Njena oblika je zelo prilagodljiva, lahko ima namreč en ali dva <i>maksimuma</i>. Porazdelitev lahko prevedemo na poljuben interval \n",
    "$[a, b]$ s seštevanjem (translacija) in množenjem (širjenje/ožanje) intervala.\n",
    "\n",
    "<b>Tip spremenljivke:</b> $x$,enodimenzionalna, zvezna, na omejenem intervalu.\n",
    "\n",
    "<b>Definicijsko območje:</b> $x \\in [0, 1]$\n",
    "\n",
    "<b>Oblika:</b> \n",
    "    $$ P(x) = \\frac{1}{\\mathrm{B}(\\alpha,\\beta)}\\, x ^{\\alpha-1}(1-x)^{\\beta-1}$$\n",
    "\n",
    "<b>Parametri:</b>\n",
    "* $a$\n",
    "* $b$"
   ]
  },
  {
   "cell_type": "code",
   "execution_count": null,
   "metadata": {
    "collapsed": false
   },
   "outputs": [],
   "source": [
    "from scipy.stats import beta\n",
    "\n",
    "# Parametri določajo obliko funkcije\n",
    "a, b = (2, 3)    # parametra a, b\n",
    "\n",
    "n = 10                            # velikost vzorca\n",
    "sample = beta.rvs(a, b, size=n)        # naključen vzorec n primerov spremenljivke\n",
    "\n",
    "xr = np.linspace(0, 1, 100)               # interval X \n",
    "P  = [beta.pdf(x, a, b) for x in xr]  # porazdelitvena funkcija\n",
    "\n",
    "# Histogram - porazdelitev naključlnih VZORCEV x glede na P(x)\n",
    "plt.figure(figsize=(10, 4))\n",
    "plt.subplot(1, 2, 1)\n",
    "plt.title(\"Vzorec\")\n",
    "plt.hist(sample)  # \n",
    "plt.xlabel(\"X\")\n",
    "plt.ylabel(\"Število primerov\")\n",
    "\n",
    "# Graf porazdelitvene funkcije\n",
    "plt.subplot(1, 2, 2)\n",
    "plt.title(\"Graf porazdelitve\")\n",
    "plt.plot(xr, P)   # nariši P(x)\n",
    "plt.ylabel(\"P(x)\")\n",
    "plt.xlabel(\"X\")\n",
    "plt.show()"
   ]
  },
  {
   "cell_type": "markdown",
   "metadata": {},
   "source": [
    "<font color=\"green\"><b>Naredi sam/a.</b></font>  Spreminjaj parametra $a$ in $b$. Kako se oblika funkcije spreminja?"
   ]
  },
  {
   "cell_type": "markdown",
   "metadata": {},
   "source": [
    "#### Učenje parametrov iz vzorca\n",
    "Tudi za učenje parametrov porazelitve Beta uporabimo funkcijo ```fit```."
   ]
  },
  {
   "cell_type": "code",
   "execution_count": null,
   "metadata": {
    "collapsed": false
   },
   "outputs": [],
   "source": [
    "# Na eni sliki primerjamo porazdelitev z naučenimi parametri s pravo porazdelitvijo\n",
    "parameters = beta.fit(sample)\n",
    "P_fit = [beta.pdf(x, *parameters) for x in xr ]\n",
    "\n",
    "plt.figure()\n",
    "plt.hist(sample,    label=\"Vzorec\", normed=True)\n",
    "plt.plot(xr, P,     label=\"P(X) resnična\", linewidth=2.0)\n",
    "plt.plot(xr, P_fit, label=\"P(X) ocenjena\", linewidth=2.0)   # ocenjena porazdelitev je model\n",
    "plt.legend()\n",
    "plt.show()"
   ]
  },
  {
   "cell_type": "markdown",
   "metadata": {},
   "source": [
    "<font color=\"green\"><b>Naredi sam/a.</b></font>  Spreminjaj parametra $a$ in $b$ ter velikost vzorca $n$. Kako se spreminja kakovost prileganja?"
   ]
  }
 ],
 "metadata": {
  "kernelspec": {
   "display_name": "Python 2",
   "language": "python",
   "name": "python2"
  },
  "language_info": {
   "codemirror_mode": {
    "name": "ipython",
    "version": 2
   },
   "file_extension": ".py",
   "mimetype": "text/x-python",
   "name": "python",
   "nbconvert_exporter": "python",
   "pygments_lexer": "ipython2",
   "version": "2.7.10"
  }
 },
 "nbformat": 4,
 "nbformat_minor": 0
}
