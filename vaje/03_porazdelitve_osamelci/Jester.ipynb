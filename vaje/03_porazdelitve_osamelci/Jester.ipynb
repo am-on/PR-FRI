{
 "cells": [
  {
   "cell_type": "markdown",
   "metadata": {},
   "source": [
    "## Iskanje neslanih šal - priporočilni sistem Jester"
   ]
  },
  {
   "cell_type": "markdown",
   "metadata": {},
   "source": [
    "<br/>\n",
    "Tokrat si bomo ogledali priporočilni sistem, ki je dokaj podoben tistemu pri domači nalogi. Gre za zbirko 100 šal (vicev), ki jih je ocenilo 23500 uporabnikov z oceno $-10$ (porazno) do $10$ (odlično). \n",
    "Ocena je torej zvezna spremenljivka. \n",
    "\n",
    "Naš glavni cilj bo modeliranje statistik v podatkovni zbirki z uporabo znanih porazdelitev. To nam bo omogočalo da  <b>med šalami poiščemo osamelce</b> in ocenimo njihovo statistično značilnost - verjetnost, da gre za osamelca ali ne. \n",
    "\n",
    "\n",
    "\n",
    "\n",
    "\n",
    "\n",
    "\n",
    "Začnimo z naključno šalo iz podatkovne zbirke: <code>A mechanical, electrical and a software engineer from Microsoft were driving through the desert when the car broke down. The mechanical engineer said \"It seems to be a problem with the fuel injection system, why don't we pop the hood and I'll take a look at it.\" To which the electrical engineer replied, \"No I think it's just a loose ground wire, I'll get out and take a look.\" Then, the Microsoft engineer jumps in. \"No, no, no. If we just close up all the windows, get out, wait a few minutes, get back in, and then reopen the windows everything will work fine.\"</code> \n",
    "\n",
    "\n",
    "\n"
   ]
  },
  {
   "cell_type": "code",
   "execution_count": null,
   "metadata": {
    "collapsed": true
   },
   "outputs": [],
   "source": [
    "import numpy as np\n",
    "import matplotlib.pyplot as plt\n",
    "\n",
    "% matplotlib inline"
   ]
  },
  {
   "cell_type": "markdown",
   "metadata": {},
   "source": [
    "Podatki so matrika velikosti $23500 \\times 100$ z zveznimi vrednosti. Vrednost $99$ predstavlja neznano vrednost, takih vrednosti zato ne smemo upoštevati."
   ]
  },
  {
   "cell_type": "code",
   "execution_count": null,
   "metadata": {
    "collapsed": false
   },
   "outputs": [],
   "source": [
    "X = np.genfromtxt(\"jester-data.csv\", delimiter=\",\",)[:, 1:]\n",
    "X[np.where(X == 99)] = float(\"nan\")  # neznanih vrednosti ne smemo upoštevati\n",
    "\n",
    "print(\"Velikost:\", X.shape)\n",
    "print(\"Skupno število ocen:\", X.size - np.sum(np.isnan(X)))"
   ]
  },
  {
   "cell_type": "markdown",
   "metadata": {},
   "source": [
    "Poglejmo, kakšna je porazdelitev vseh veljavnih ocen."
   ]
  },
  {
   "cell_type": "code",
   "execution_count": null,
   "metadata": {
    "collapsed": false
   },
   "outputs": [],
   "source": [
    "# Porazdelitev vseh ocen\n",
    "data = X[np.isnan(X) == False]\n",
    "plt.hist(data, bins=100)\n",
    "plt.xlabel(\"x - Ocena šale\")\n",
    "plt.ylabel(\"P(x)\")\n",
    "plt.show()"
   ]
  },
  {
   "cell_type": "markdown",
   "metadata": {},
   "source": [
    " Vidimo, da je večina ocen nevtralnih (okoli 0), veliko pozitivnih (med 3 in 10) ter nekaj zelo slabih (-10). Najmanj je srednje slabih (-9 do -1). Navkljub temu ima ta porazdelitev naslednje težave:\n",
    " * Vzorec ni nepristranski. Vsak uporabnik je ocenil različno število šal.\n",
    " * Porazdelitev ne spominja na nobeno od znanih.\n",
    " \n",
    "Kako bi primerjali šale glede na njihove ocene? Vsaka šala je dobila nekaj tisoč ocen, kar zadostuje za statistično primerjavo.\n",
    " "
   ]
  },
  {
   "cell_type": "code",
   "execution_count": null,
   "metadata": {
    "collapsed": false
   },
   "outputs": [],
   "source": [
    "(np.isnan(X) == False).sum(axis=0)  # število ocen za vsako od 100 šal"
   ]
  },
  {
   "cell_type": "markdown",
   "metadata": {},
   "source": [
    "Zamislimo si dve novi naključni spremenljivki:\n",
    "    \n",
    "* $X$ Povprečje ocen posamezne šale.\n",
    "* $Y$ Varianca ocen posamezne šale.\n",
    "\n",
    "<br/>\n",
    "\n",
    "<font color=\"red\"><b>Pomembno: spremenljivki sta izpeljani iz dveh izračunljivih količih. Spremenljivk $X$ in $Y$ ne smemo pomešati s parametri normalne porazdelitve! </b></font>\n",
    "\n",
    "Za vsako od navedenih spremljivk $X$ in $Y$ imamo torej vzorec velikosti 100, po en primer za vsako šalo. Pri izračunu pazimo, da preskočimo neznane vrednosti."
   ]
  },
  {
   "cell_type": "code",
   "execution_count": null,
   "metadata": {
    "collapsed": false
   },
   "outputs": [],
   "source": [
    "# Porazdelitev povprečij ocen\n",
    "means     = []\n",
    "variances = []\n",
    "for i in range(X.shape[1]):\n",
    "    s = np.mean(X[:, i][np.isnan(X[:, i]) == False])\n",
    "    v = np.var(X[:, i][np.isnan(X[:, i]) == False])\n",
    "    means.append(s)\n",
    "    variances.append(v)"
   ]
  },
  {
   "cell_type": "markdown",
   "metadata": {},
   "source": [
    "<font color=\"blue\"><b>Razmisli.</b></font> Kakšna je interpretacija spremeljivk $X$ in $Y$? Kaj pomeni, če ima šala visoko varianco med vsemi ocenami? Kaj pomeni, če ima šala visoko povprečno oceno?\n",
    "\n",
    "Izpišimo nekaj najbolje, najslabše ocenjenih šal ter nekaj takih z visoko oz. nizko varianco. Za zabavo jih lahko prebereš in primerjaš (pot ```jokes/init1.html```)."
   ]
  },
  {
   "cell_type": "code",
   "execution_count": null,
   "metadata": {
    "collapsed": false
   },
   "outputs": [],
   "source": [
    "n = 5\n",
    "for data, name in [(means, \"Povprečja (X)\"), (variances, \"Variance (Y)\")]: \n",
    "    inxs = np.argsort(data)[:5]\n",
    "    print(\"Kriterij: %s\" % name)\n",
    "    print(\"\\tSpodnjih %d:\" % n)\n",
    "    for i in inxs:\n",
    "        print(\"\\t\\tJoke index: %d, mean: %.5f, variance: %.5f\" % (i+1, means[i], variances[i]))\n",
    "        \n",
    "    inxs = np.argsort(data)[::-1][:5]\n",
    "    print(\"\\tZgornjih %d:\" % n)\n",
    "    for i in inxs:\n",
    "        print(\"\\t\\tJoke index: %d, mean: %.5f, variance: %.5f\" % (i+1, means[i], variances[i]))\n",
    "    print()"
   ]
  },
  {
   "cell_type": "markdown",
   "metadata": {},
   "source": [
    "Narišimo še porazdelitvi vzorcev $X$ in $Y$."
   ]
  },
  {
   "cell_type": "code",
   "execution_count": null,
   "metadata": {
    "collapsed": false
   },
   "outputs": [],
   "source": [
    "plt.subplot(1, 2, 1)\n",
    "plt.hist(means, normed=False, bins=12)\n",
    "plt.xlabel(\"X - Povprečna ocena šale\")\n",
    "plt.ylabel(\"Število vzorcev\")\n",
    "plt.text(-3, 2, \"< Osamelci?\", rotation=90, verticalalignment=\"bottom\", color=\"red\")\n",
    "\n",
    "plt.subplot(1, 2, 2)\n",
    "plt.hist(variances, normed=False, bins=12)\n",
    "plt.xlabel(\"Y - Varianca ocene šale\")\n",
    "\n",
    "\n",
    "plt.tight_layout()\n",
    "plt.show()"
   ]
  },
  {
   "cell_type": "markdown",
   "metadata": {},
   "source": [
    "Tole izgleda že bolje. Večina šal je torej v povprečju ocenjenih pozitivno, zelo malo je negativnih. \n",
    "Porazdelitvi spominjata na znane porazdelitve, kjer je večina primerov (šal) porazdeljenih okoli srednje vrednosti, manj pa je ekstremnih vrednosti.\n",
    "\n",
    "\n",
    "Poglejmo za trenutek porazdelitev povprečnih ocen. Izgleda, da imamo nekaj <font color=\"red\"><b>osamelcev</b></font> - zelo slabih šal, ocenjenih od $X = -2$ navzdol. Kako pomenljiv je padec od $X = -2$ navzdol? Da bi odgovorili na to vprašanje, spoznajmo osnove modeliranja podatkov s pomočjo verjetnostnih porazdelitev.\n",
    "\n",
    "Povprečna ocena izgleda normalno porazdeljena. Kakšni so najbolj verjetni parametri porazdelitve? "
   ]
  },
  {
   "cell_type": "code",
   "execution_count": null,
   "metadata": {
    "collapsed": false
   },
   "outputs": [],
   "source": [
    "from scipy.stats import multivariate_normal as mvn\n",
    "\n",
    "data = means\n",
    "    \n",
    "# Ocenimo parametre normalne (Gaussove) porazdelitve\n",
    "n = len(data)\n",
    "mu = np.mean(data)              # ocena sredine\n",
    "sigma2 = (n-1)/n * np.var(data) # ocena variance\n",
    "\n",
    "plt.figure()\n",
    "counts, bins, _ = plt.hist(data, normed=True, label=\"Vzorec\", bins=10)    # dobimo razpon\n",
    "pdf = [mvn.pdf(x, mu, sigma2) for x in bins]                              # pdf: [p]robability [d]ensity [f]unction\n",
    "plt.plot(bins, pdf, \"-\", label=\"Model\", linewidth=2.0)\n",
    "plt.xlabel(\"X - povprečna ocena\")\n",
    "plt.ylabel(\"P(X)\")\n",
    "\n",
    "plt.legend(loc=2)\n",
    "plt.show()"
   ]
  },
  {
   "cell_type": "markdown",
   "metadata": {},
   "source": [
    "Na oko lahko ocenimo, da se porazdelitev kar dobro ujema z vzorcem. Kako statistično značilne so šale, ki imajo vrednost meritve manjšo od $X=-2.0$? <i>Kako nenavadno slabe so v resnici te šale?</i>\n",
    "\n",
    "Za odgovor na to vprašanje bomo izračunali t.i. <i>p-vrednost</i>. S pomočjo p-vrednosti ocenimo <i>nenavadnost</i> meritve, v našem primeru povprečne ocene šale.\n",
    "\n",
    "<br/>\n",
    "<br/>\n",
    "\n",
    "<b>Definicija.</b> P-vrednost je verjetnost, da pri vzorčenju ene vrednosti naključne spremenljivke dobimo dano ali manjšo (oz. večjo) vrednost. \n",
    "\n",
    "\n",
    "Definicijo si najlažje ogledamo grafično. Oglejmo si funkcijo porazdelitve, dobljeno z ocenjenima parametroma $\\mu$ in $\\sigma^2$.\n"
   ]
  },
  {
   "cell_type": "code",
   "execution_count": null,
   "metadata": {
    "collapsed": false
   },
   "outputs": [],
   "source": [
    "# Meritev, ki bi jo radi statisticno ocenili  \n",
    "qx = -2.0                  \n",
    "\n",
    "\n",
    "# Izračunamo P(x) za dovolj velik interval\n",
    "xr  = np.linspace(-5, 5, 20)\n",
    "width = xr[1] - xr[0]       # sirina intervala\n",
    "Px = [mvn.pdf(x, mu, sigma2) * (xr[1]-xr[0])   for x in xr]\n",
    "\n",
    "\n",
    "# Vse vrednosti, ki so manjše od qx\n",
    "ltx     = xr[xr < qx]      \n",
    "\n",
    "# Množimo s širino intervala, da dobimo ploščino pod krivuljo\n",
    "P_ltx = [mvn.pdf(x, mu, sigma2) * width for x in ltx] \n",
    "                            \n",
    "# p-vrednost: ploscina pod krivuljo P(x) za vse vrednosti, manjse od qx\n",
    "p_value = np.sum(P_ltx )\n",
    "\n",
    "# Graf funkcije\n",
    "plt.figure()\n",
    "plt.plot(xr, Px, linewidth=2.0,)\n",
    "plt.fill_between(ltx, 0, P_ltx, alpha=0.2,)\n",
    "plt.text(qx, mvn.pdf(qx, mu, sigma2) * width, \n",
    "         \"p=%f\" % p_value,  \n",
    "         horizontalalignment=\"right\",\n",
    "         verticalalignment=\"center\",)\n",
    "\n",
    "plt.xlabel(\"X - povprečna ocena šale.\")\n",
    "plt.ylabel(\"P(X)\")\n",
    "plt.legend()\n",
    "plt.show()\n",
    "\n",
    "\n",
    "# Poglejmo, ali je meritev statistično značilna pri danem pragu alpha (0.05, 0.01, 0.001 ... )\n",
    "alpha = 0.05\n",
    "if p_value < alpha:\n",
    "        sig = \"JE\"\n",
    "else:\n",
    "        sig = \"NI\"\n",
    "\n",
    "# Rezultat statističnega testa\n",
    "print(\"Verjetnost šale z oceno %.3f ali manj (statistična značilnost): \" % qx + \"%.3f\" % (100 * p_value) +  \" %\")\n",
    "print(\"Nenavadnost šale %s statistično značilna (prag = %.3f\" % (sig, 100*alpha), \"%)\")"
   ]
  },
  {
   "cell_type": "markdown",
   "metadata": {
    "collapsed": true
   },
   "source": [
    "Sedaj lahko za vsako ekstremno vrednost v podatkih (bodisi visoko ali nizko) <i>statistično</i> ocenimo vrednost njene nenavadnosti. Pri postavljenem pragu npr. $\\alpha = 0.05$ lahko sprejmemo odličitev, ali je neka meritev osamelec ali ne."
   ]
  },
  {
   "cell_type": "markdown",
   "metadata": {},
   "source": [
    "<font color=\"green\"><b>Naredi sam/a</b></font>. Izpiši vse šale osamelce, katerih povprečna ocena $X$ je statistično značilna, pri pragu $\\alpha=0.05$. Poišči tudi osamelce med <i>dobro ocenjenimi</i> šalami."
   ]
  },
  {
   "cell_type": "code",
   "execution_count": null,
   "metadata": {
    "collapsed": true
   },
   "outputs": [],
   "source": []
  },
  {
   "cell_type": "markdown",
   "metadata": {},
   "source": [
    "<font color=\"green\"><b>Naredi sam/a</b></font>. Poizkusi porazdelitev modelirati z drugimi porazdelitvami (Student, Beta). Je katera od teh porazdelitev bolj primerna?"
   ]
  },
  {
   "cell_type": "code",
   "execution_count": null,
   "metadata": {
    "collapsed": true
   },
   "outputs": [],
   "source": []
  },
  {
   "cell_type": "markdown",
   "metadata": {},
   "source": [
    "<font color=\"green\"><b>Naredi sam/a</b></font>. Ponovi analizo za spremenljivko $Y$ - varianca ocen šale. Odgovori na vprašanja:\n",
    "* Katera od porazdelitev (normalna, Student, Beta) se najbolje prilega vzorcu?\n",
    "* Katere so statistično značilne šale (z visoko ali nizko varianco)?\n",
    "* Kaj pomeni, če ima šala visoko ali nizko vrednost $Y$?"
   ]
  },
  {
   "cell_type": "code",
   "execution_count": null,
   "metadata": {
    "collapsed": true
   },
   "outputs": [],
   "source": []
  }
 ],
 "metadata": {
  "kernelspec": {
   "display_name": "Python 3",
   "language": "python",
   "name": "python3"
  },
  "language_info": {
   "codemirror_mode": {
    "name": "ipython",
    "version": 3
   },
   "file_extension": ".py",
   "mimetype": "text/x-python",
   "name": "python",
   "nbconvert_exporter": "python",
   "pygments_lexer": "ipython3",
   "version": "3.4.1"
  }
 },
 "nbformat": 4,
 "nbformat_minor": 0
}
