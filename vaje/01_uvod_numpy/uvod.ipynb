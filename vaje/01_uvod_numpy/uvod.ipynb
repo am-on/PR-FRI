{
 "cells": [
  {
   "cell_type": "markdown",
   "metadata": {},
   "source": [
    "# Uvod: statistika temperatur na severu"
   ]
  },
  {
   "cell_type": "markdown",
   "metadata": {},
   "source": [
    "Oglejmo si praktično uporabo knjižnice `numpy` na primeru podatkov dnevna temperature v Stockholmu vsak dan med leti 1800 in 2011. "
   ]
  },
  {
   "cell_type": "markdown",
   "metadata": {},
   "source": [
    "Podatki so shranjeni v datoteki, kjer vrstice predstavljajo meritve, posamezni podatki - leto, mesec, dan in izmerjena temperatura - pa so ločeni z vejico."
   ]
  },
  {
   "cell_type": "code",
   "execution_count": null,
   "metadata": {
    "collapsed": false
   },
   "outputs": [],
   "source": [
    "from csv import DictReader\n",
    "\n",
    "fp = open(\"stockholm.csv\", \"rt\")\n",
    "reader = DictReader(fp)\n",
    "\n",
    "for row in reader:\n",
    "    print(row)\n",
    "    break  # izpisi samo prvo vrstico"
   ]
  },
  {
   "cell_type": "markdown",
   "metadata": {},
   "source": [
    "Predstavitev podatkov v obliki slovarja je koristna zaradi svoje jasnosti, vendar bo računanje bistveno hitrejše,\n",
    "če podatke naložimo kot polje."
   ]
  },
  {
   "cell_type": "code",
   "execution_count": null,
   "metadata": {
    "collapsed": false
   },
   "outputs": [],
   "source": [
    "from numpy import *\n",
    "set_printoptions(suppress=True)\n",
    "\n",
    "data = loadtxt ('stockholm.csv', delimiter=\",\", skiprows=1)\n",
    "data"
   ]
  },
  {
   "cell_type": "markdown",
   "metadata": {},
   "source": [
    "<p> Preverimo velikost podatkov: število vrstic - <i>meritev </i> ali <i>vzorcev</i> in število stolpcev - <i>atributov</i>. </p>"
   ]
  },
  {
   "cell_type": "code",
   "execution_count": null,
   "metadata": {
    "collapsed": false
   },
   "outputs": [],
   "source": [
    "data.shape"
   ]
  },
  {
   "cell_type": "markdown",
   "metadata": {},
   "source": [
    "Stolpci zaporedoma hranijo podatke: `leto`, `mesec`, `dan` in `temperatura`.  Poglejmo si vse meritve, ki so bile narejene v letu 2011. Ustvarimo binarni vektor `data[:, 0] == 2011`, ki vsebuje vrednost `True` nas ustreznih mestih, ter ga uporabimo za naslavljanje podatkov."
   ]
  },
  {
   "cell_type": "code",
   "execution_count": null,
   "metadata": {
    "collapsed": false,
    "scrolled": true
   },
   "outputs": [],
   "source": [
    "data[data[:, 0] == 2011]"
   ]
  },
  {
   "cell_type": "markdown",
   "metadata": {},
   "source": [
    "Poglejmo, kako hladno je bilo na današnji dan pred 200 leti (2. marec 1816)."
   ]
  },
  {
   "cell_type": "code",
   "execution_count": null,
   "metadata": {
    "collapsed": false
   },
   "outputs": [],
   "source": [
    "data[(data[:, 0] == 1816) * (data[:, 1] == 3) * (data[:, 2] == 2), :]"
   ]
  },
  {
   "cell_type": "markdown",
   "metadata": {},
   "source": [
    "### Procesiranje podatkov"
   ]
  },
  {
   "cell_type": "markdown",
   "metadata": {},
   "source": [
    "Na tej točki nastopijo operacije, ki nam povedo nekaj koristnega o podatkih. Izračunali bomo nekaj osnovnih statistik."
   ]
  },
  {
   "cell_type": "markdown",
   "metadata": {},
   "source": [
    "#### Povprečje, aritmetična sredina"
   ]
  },
  {
   "cell_type": "code",
   "execution_count": null,
   "metadata": {
    "collapsed": false
   },
   "outputs": [],
   "source": [
    "# Dnevna temperatura je v stolpcu na naslovu 3\n",
    "mean(data[:,3])"
   ]
  },
  {
   "cell_type": "markdown",
   "metadata": {},
   "source": [
    "Povprečna dnevna temperatura v Stockholmu v preteklih 200 letih je bila prijetnih 6.2 C. \n",
    "<font color=\"green\"><b>Naredi sam/-a.</b></font> Kakšna pa je povprečna temperatura januarja (mesec s številko `1`)?"
   ]
  },
  {
   "cell_type": "code",
   "execution_count": null,
   "metadata": {
    "collapsed": false
   },
   "outputs": [],
   "source": [
    "# Izračunaj povprečno januarsko temperaturo v Stockholmu\n",
    "# ..."
   ]
  },
  {
   "cell_type": "markdown",
   "metadata": {},
   "source": [
    "#### Standardni odklon in varianca"
   ]
  },
  {
   "cell_type": "code",
   "execution_count": null,
   "metadata": {
    "collapsed": true
   },
   "outputs": [],
   "source": [
    "std(data[:,3]), var(data[:,3])"
   ]
  },
  {
   "cell_type": "markdown",
   "metadata": {},
   "source": [
    "<font color=\"green\"><b>Naredi sam/-a.</b></font> V katerem mesecu imajo temperature največji odklon? "
   ]
  },
  {
   "cell_type": "code",
   "execution_count": null,
   "metadata": {
    "collapsed": false
   },
   "outputs": [],
   "source": [
    "# Poišči mesec z največjim odklonom oz. varianco v temperaturi.\n",
    "# Namig: Uporabi slovar oblike {mesec: odklon v temperaturi, ...}\n",
    "# ..."
   ]
  },
  {
   "cell_type": "markdown",
   "metadata": {},
   "source": [
    "#### Minimum in maksimum"
   ]
  },
  {
   "cell_type": "code",
   "execution_count": null,
   "metadata": {
    "collapsed": true
   },
   "outputs": [],
   "source": [
    "# najnižja dnevna temperatura\n",
    "data[:,3].min()"
   ]
  },
  {
   "cell_type": "code",
   "execution_count": null,
   "metadata": {
    "collapsed": true
   },
   "outputs": [],
   "source": [
    "# najvišja temperatura\n",
    "data[:,3].max()"
   ]
  },
  {
   "cell_type": "markdown",
   "metadata": {},
   "source": [
    "<font color=\"green\"><b>Naredi sam/-a.</b></font> Pošči mesec in leto, kjer smo beležili največjo temperaturo."
   ]
  },
  {
   "cell_type": "code",
   "execution_count": null,
   "metadata": {
    "collapsed": false
   },
   "outputs": [],
   "source": [
    "# Poišči mesec in leto, kjer smo v povprečju beležili najvišjo temperaturo\n",
    "# Uporabi slovar oblike {(leto, mesec): povprecna temperatura, ...}\n",
    "# ..."
   ]
  },
  {
   "cell_type": "markdown",
   "metadata": {},
   "source": [
    "#### Vsota, produkt"
   ]
  },
  {
   "cell_type": "markdown",
   "metadata": {},
   "source": [
    "Temperature ponavadi ne seštevamo, pa vendar izkoristimo priložnost za prikaz funkcij vsote in produkta."
   ]
  },
  {
   "cell_type": "code",
   "execution_count": null,
   "metadata": {
    "collapsed": true
   },
   "outputs": [],
   "source": [
    "data[:, 3].sum()  # vsota vseh temperatur"
   ]
  },
  {
   "cell_type": "code",
   "execution_count": null,
   "metadata": {
    "collapsed": true
   },
   "outputs": [],
   "source": [
    "data[:, 3].sum() / data.shape[0]   # dobimo ravno aritmetično sredino"
   ]
  },
  {
   "cell_type": "code",
   "execution_count": null,
   "metadata": {
    "collapsed": true
   },
   "outputs": [],
   "source": [
    "# prva vrstica v podatkih ...\n",
    "data[0, :]"
   ]
  },
  {
   "cell_type": "code",
   "execution_count": null,
   "metadata": {
    "collapsed": true
   },
   "outputs": [],
   "source": [
    "# ... in njen produkt\n",
    "prod(data[0, :])"
   ]
  },
  {
   "cell_type": "markdown",
   "metadata": {},
   "source": [
    "### Globalno segrevanje?"
   ]
  },
  {
   "cell_type": "markdown",
   "metadata": {},
   "source": [
    "Odgovorimo na še nekaj vprašanj. Po Stockholmu krožijo govorice, da se temperatura iz leta v leto povečuje."
   ]
  },
  {
   "cell_type": "code",
   "execution_count": null,
   "metadata": {
    "collapsed": true
   },
   "outputs": [],
   "source": [
    "# Izračunajmo povprecno temperaturo za vsako leto posebej \n",
    "yearly_temps = dict()\n",
    "\n",
    "for year in range(1800, 2012):\n",
    "    # Uporabimo pogojno naslavljanje polja\n",
    "    yearly_temps[year] = data[data[:, 0] == year, 3].mean()"
   ]
  },
  {
   "cell_type": "markdown",
   "metadata": {},
   "source": [
    "<font color=\"green\"><b>Naredi sam/-a.</b></font> Izpiši leta, kjer je povprečna temperatura višja od prejšnjega leta in poišči 10 najtoplejših let."
   ]
  },
  {
   "cell_type": "code",
   "execution_count": null,
   "metadata": {
    "collapsed": true
   },
   "outputs": [],
   "source": [
    "# Izpiši vsako leto, ki ima večjo povprečno temperaturo od prejšnjega\n",
    "# "
   ]
  },
  {
   "cell_type": "code",
   "execution_count": null,
   "metadata": {
    "collapsed": true
   },
   "outputs": [],
   "source": [
    "# Poišči 10 najtoplejših let\n",
    "# "
   ]
  },
  {
   "cell_type": "markdown",
   "metadata": {},
   "source": [
    "Zadnja leta so res sumljivo topla.\n",
    "\n",
    "Risanje podatkov je sicer tema naslednjega tedna, a pogled v prihodnost nikoli ne škodi. Uporabili bomo knjižnico `matplotlib`."
   ]
  },
  {
   "cell_type": "code",
   "execution_count": null,
   "metadata": {
    "collapsed": false
   },
   "outputs": [],
   "source": [
    "% matplotlib inline\n",
    "import matplotlib.pyplot as plt"
   ]
  },
  {
   "cell_type": "markdown",
   "metadata": {},
   "source": [
    "Naredimo novo sliko (figure) in nanjo narišemo povprečne temperature v odvisnosti od časa. "
   ]
  },
  {
   "cell_type": "code",
   "execution_count": null,
   "metadata": {
    "collapsed": true
   },
   "outputs": [],
   "source": [
    "plt.figure()\n",
    "plt.plot(data[:, 3])\n",
    "plt.xlabel(\"Čas (dnevi)\")  # Vedno označimo osi.\n",
    "plt.ylabel(\"Povprečna dnevna temperatura\")\n",
    "plt.show()"
   ]
  },
  {
   "cell_type": "markdown",
   "metadata": {},
   "source": [
    "Precej nepregledno. Poizkusite razširiti sliko tako da spremenite `plt.figure(figsize=(sirina, visina))`, kjer sta `visina` in `sirina` podane v palcih oz. inčah (privzeto `(5, 5)`) .\n",
    "\n",
    "Vseeno pa opazimo, da se pogostost dni s temperaturo nižjo od -20.0 C zmanjšuje. Poglejmo."
   ]
  },
  {
   "cell_type": "code",
   "execution_count": null,
   "metadata": {
    "collapsed": true
   },
   "outputs": [],
   "source": [
    "plt.figure()\n",
    "\n",
    "# Narišimo izvirne podatke\n",
    "plt.plot(data[:, 3])\n",
    "\n",
    "# Dodajmo rdečo črto pri -20.0 C.\n",
    "plt.plot([0, len(data)], [-20, -20], color=\"red\")   \n",
    "\n",
    "# Spremenimo še oznako x-osi. Dodajmo 10 enako oddaljenih kazalcev.\n",
    "ticks = arange(0, len(data), len(data)//9, dtype=int)\n",
    "plt.xticks(ticks)\n",
    "plt.gca().set_xticklabels(data[ticks, 0].astype(int), rotation=30)\n",
    "\n",
    "# Vedno označimo osi.\n",
    "plt.xlabel(\"Čas\")  \n",
    "plt.ylabel(\"Povprečna dnevna temperatura\")\n",
    "plt.show()"
   ]
  },
  {
   "cell_type": "markdown",
   "metadata": {},
   "source": [
    "Od 80-tih let prejšnjega stoletja res nismo imeli kakšnega posebej hladnega dneva. Vseeno pa bi želeli še bolj poenostaviti prikaz, tako, da prikažemo za vsako leto po eno točko s povprečno temperaturo tega leta.\n",
    "\n",
    "<font color=\"green\"><b>Naredi sam/-a.</b></font> Nariši sliko, s povprečno temperaturo za vsako leto. Uporabi funkcijo `plt.plot(x, y)`  kjer je `x` vektor let, `y` pa vektor pripadajočih povprečnih temperatur. Ali misliš, da se temperatura z leti res povečuje?"
   ]
  },
  {
   "cell_type": "code",
   "execution_count": null,
   "metadata": {
    "collapsed": true
   },
   "outputs": [],
   "source": [
    "# Nariši sliko, ki povzame zgornje podatke.\n",
    "# Pomagaj si s sloverjem yearly_temps.\n",
    "# Os x: leta\n",
    "# Os y: povprečna temperatura za vsako leto\n",
    "# ..."
   ]
  }
 ],
 "metadata": {
  "kernelspec": {
   "display_name": "Python 3",
   "language": "python",
   "name": "python3"
  },
  "language_info": {
   "codemirror_mode": {
    "name": "ipython",
    "version": 3
   },
   "file_extension": ".py",
   "mimetype": "text/x-python",
   "name": "python",
   "nbconvert_exporter": "python",
   "pygments_lexer": "ipython3",
   "version": "3.6.0"
  }
 },
 "nbformat": 4,
 "nbformat_minor": 0
}
